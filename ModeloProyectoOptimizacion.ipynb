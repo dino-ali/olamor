{
  "cells": [
    {
      "cell_type": "markdown",
      "metadata": {
        "id": "view-in-github",
        "colab_type": "text"
      },
      "source": [
        "<a href=\"https://colab.research.google.com/github/dino-ali/olamor/blob/main/ModeloProyectoOptimizacion.ipynb\" target=\"_parent\"><img src=\"https://colab.research.google.com/assets/colab-badge.svg\" alt=\"Open In Colab\"/></a>"
      ]
    },
    {
      "cell_type": "code",
      "source": [
        "!pip install ortools"
      ],
      "metadata": {
        "collapsed": true,
        "id": "hkQTkDaNojvK"
      },
      "execution_count": null,
      "outputs": []
    },
    {
      "cell_type": "code",
      "execution_count": null,
      "metadata": {
        "id": "med9HmMMcW2L",
        "colab": {
          "base_uri": "https://localhost:8080/"
        },
        "collapsed": true,
        "outputId": "e4a6f284-63e2-48e9-cab7-0e7d14231203"
      },
      "outputs": [
        {
          "output_type": "stream",
          "name": "stdout",
          "text": [
            "Mounted at /content/drive\n",
            "¡Se ha encontrado una solución óptima! Es la siguiente:\n"
          ]
        }
      ],
      "source": [
        "# Primero, cargamos los datos del archivo Excel.\n",
        "import pandas as pd\n",
        "from google.colab import drive\n",
        "\n",
        "# Montar Google Drive\n",
        "drive.mount('/content/drive', force_remount=True)\n",
        "df = pd.read_excel(\"/content/drive/MyDrive/Proyecto optimización./opti.xlsx\")\n",
        "\n",
        "# Convertimos las horas a minutos para facilitar los cálculos.\n",
        "df['Available_Time_Minutes'] = df['Available_Time'].dt.hour * 60 + df['Available_Time'].dt.minute\n",
        "df['Deadline_Minutes'] = df['Deadline'].dt.hour * 60 + df['Deadline'].dt.minute\n",
        "\n",
        "# Utilizamos CBC para resolver este problema.\n",
        "from ortools.linear_solver import pywraplp\n",
        "solver = pywraplp.Solver.CreateSolver('CBC')\n",
        "\n",
        "# Verificamos que el solver se haya creado correctamente.\n",
        "if not solver:\n",
        "    print('No se puede crear el solver. ¡Atención requerida!')\n",
        "    exit(1)\n",
        "\n",
        "# Ahora, definimos las variables y restricciones del problema.\n",
        "num_articles = len(df)\n",
        "num_trucks = len(df['Area'].unique())\n",
        "x = {}  # x[i, k]: 1 si el artículo i se asigna al camión k, 0 de lo contrario\n",
        "T = {}  # T[k]: Hora de inicio del camión k\n",
        "t = {}  # t[i, k]: Hora de llegada del artículo i asignado al camión k\n",
        "s = {}  # s[i, k]: Tiempo de permanencia del artículo i en el camión k\n",
        "\n",
        "# Definimos las variables de decisión necesarias para el problema.\n",
        "for i in range(num_articles):\n",
        "    for k in range(num_trucks):\n",
        "        x[(i, k)] = solver.BoolVar(f'x[{i},{k}]')  # Variable binaria (0 o 1)\n",
        "        t[(i, k)] = solver.NumVar(0, solver.infinity(), f't[{i},{k}]')  # Tiempo de llegada del artículo i al camión k\n",
        "        s[(i, k)] = solver.NumVar(0, solver.infinity(), f's[{i},{k}]')  # Tiempo de permanencia del artículo i en el camión k\n",
        "\n",
        "# Establecemos las reglas del problema.\n",
        "for k, area in enumerate(df['Area'].unique()):\n",
        "    T[k] = solver.NumVar(0, solver.infinity(), f'T[{k}]')  # Hora de inicio del camión k\n",
        "    capacidad_area = df[df['Area'] == area]['Area'].values[0]\n",
        "    capacidad_peso = df[df['Area'] == area]['Weight'].values[0]\n",
        "\n",
        "    # Restricción de capacidad de área del camión k\n",
        "    solver.Add(solver.Sum(df['Area'][i] * x[(i, k)] for i in range(num_articles)) <= capacidad_area)\n",
        "\n",
        "    # Restricción de capacidad de peso del camión k\n",
        "    solver.Add(solver.Sum(df['Weight'][i] * x[(i, k)] for i in range(num_articles)) <= capacidad_peso)\n",
        "\n",
        "# Aseguramos el cumplimiento de los plazos de entrega.\n",
        "for i in range(num_articles):\n",
        "    deadline = df['Deadline_Minutes'][i]\n",
        "    for k in range(num_trucks):\n",
        "        solver.Add(t[(i, k)] <= deadline * x[(i, k)])\n",
        "\n",
        "# Evitamos que ciertos artículos vayan juntos en el mismo camión.\n",
        "for k in range(num_trucks):\n",
        "    solver.Add(x[(0, k)] + x[(1, k)] <= 1)\n",
        "\n",
        "# Garantizamos que los artículos no pasen demasiado tiempo en los camiones.\n",
        "for i in range(num_articles):\n",
        "    for k in range(num_trucks):\n",
        "        solver.Add(t[(i, k)] + s[(i, k)] <= df['Deadline_Minutes'][i] * x[(i, k)])\n",
        "\n",
        "# Definimos la función objetivo: minimizar el tiempo total de entrega.\n",
        "solver.Minimize(solver.Sum(t[(i, k)] for i in range(num_articles) for k in range(num_trucks)))\n",
        "\n",
        "# Establecemos un límite de tiempo para resolver este problema.\n",
        "solver.set_time_limit(600000)\n",
        "\n",
        "# Resolvemos el problema.\n",
        "status = solver.Solve()\n",
        "\n",
        "# Analizamos los resultados.\n",
        "if status == pywraplp.Solver.OPTIMAL:\n",
        "    print('¡Se ha encontrado una solución óptima! Es la siguiente:')\n",
        "    # Imprimimos la asignación de artículos a camiones y los tiempos correspondientes.\n",
        "    for i in range(num_articles):\n",
        "        for k in range(num_trucks):\n",
        "            if x[(i, k)].solution_value() > 0:\n",
        "                print(f'Artículo {df[\"Item_ID\"][i]} se asigna al camión {k}')\n",
        "                print(f'El camión {k} inicia su ruta a las {T[k].solution_value()} minutos')\n",
        "                print(f'El artículo llega a su destino a los {t[(i, k)].solution_value()} minutos')\n",
        "elif status == pywraplp.Solver.FEASIBLE:\n",
        "    print('¡Se ha encontrado una solución factible!')\n",
        "    # Imprimimos la asignación de artículos a camiones y los tiempos correspondientes.\n",
        "else:\n",
        "    print('No se ha encontrado una solución óptima ni factible. Se requiere atención.')\n"
      ]
    }
  ],
  "metadata": {
    "colab": {
      "provenance": [],
      "include_colab_link": true
    },
    "kernelspec": {
      "display_name": "Python 3",
      "name": "python3"
    },
    "language_info": {
      "name": "python"
    }
  },
  "nbformat": 4,
  "nbformat_minor": 0
}